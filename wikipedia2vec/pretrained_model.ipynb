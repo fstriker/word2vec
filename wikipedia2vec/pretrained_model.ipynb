{
 "cells": [
  {
   "cell_type": "markdown",
   "metadata": {},
   "source": [
    "# Semantic Technology"
   ]
  },
  {
   "cell_type": "markdown",
   "metadata": {},
   "source": [
    "Sources:\n",
    "- https://wikipedia2vec.github.io/wikipedia2vec/usage/\n",
    "- https://radimrehurek.com/gensim/search.html?q=learn+from+websites&check_keywords=yes&area=default\n",
    "- https://pypi.org/project/wikipedia2vec/1.0.5/\n",
    "- https://datascience.stackexchange.com/questions/49431/how-to-train-an-existing-word2vec-gensim-model-on-new-words\n",
    "\n",
    "\n",
    "Training Sources:\n",
    "- https://qz.com/2142992/transcript-of-volodymyr-zelenskyys-speech-to-the-us-congress/\n",
    "- https://kyivindependent.com/national/zelenskys-full-speech-at-munich-security-conference/\n",
    "- https://www.timesofisrael.com/full-text-ukraine-president-zelenskys-speech-to-israeli-lawmakers/\n",
    "- https://www.theguardian.com/world/2022/mar/08/thirteen-days-of-struggle-volodymyr-zelenskiys-speech-to-uk-parliament-transcript\n",
    "- https://edition.cnn.com/2022/03/24/politics/zelensky-speech-nato-transcript/index.html"
   ]
  },
  {
   "cell_type": "code",
   "execution_count": 120,
   "metadata": {},
   "outputs": [
    {
     "name": "stdout",
     "output_type": "stream",
     "text": [
      "Requirement already satisfied: html2text in g:\\python\\lib\\site-packages (2020.1.16)\n",
      "Note: you may need to restart the kernel to use updated packages.\n"
     ]
    },
    {
     "name": "stderr",
     "output_type": "stream",
     "text": [
      "WARNING: You are using pip version 20.1.1; however, version 22.0.4 is available.\n",
      "You should consider upgrading via the 'G:\\python\\python.exe -m pip install --upgrade pip' command.\n"
     ]
    }
   ],
   "source": [
    "pip install html2text"
   ]
  },
  {
   "cell_type": "code",
   "execution_count": 121,
   "metadata": {},
   "outputs": [
    {
     "name": "stdout",
     "output_type": "stream",
     "text": [
      "Requirement already satisfied: requests in g:\\python\\lib\\site-packages (2.27.1)\n",
      "Requirement already satisfied: urllib3<1.27,>=1.21.1 in g:\\python\\lib\\site-packages (from requests) (1.26.9)\n",
      "Requirement already satisfied: certifi>=2017.4.17 in g:\\python\\lib\\site-packages (from requests) (2021.10.8)\n",
      "Requirement already satisfied: charset-normalizer~=2.0.0; python_version >= \"3\" in g:\\python\\lib\\site-packages (from requests) (2.0.12)\n",
      "Requirement already satisfied: idna<4,>=2.5; python_version >= \"3\" in g:\\python\\lib\\site-packages (from requests) (3.3)\n",
      "Note: you may need to restart the kernel to use updated packages.\n"
     ]
    },
    {
     "name": "stderr",
     "output_type": "stream",
     "text": [
      "WARNING: You are using pip version 20.1.1; however, version 22.0.4 is available.\n",
      "You should consider upgrading via the 'G:\\python\\python.exe -m pip install --upgrade pip' command.\n"
     ]
    }
   ],
   "source": [
    "pip install requests"
   ]
  },
  {
   "cell_type": "code",
   "execution_count": 122,
   "metadata": {},
   "outputs": [
    {
     "ename": "SyntaxError",
     "evalue": "invalid syntax (4648074.py, line 1)",
     "output_type": "error",
     "traceback": [
      "\u001b[1;36m  File \u001b[1;32m\"C:\\Users\\fst\\AppData\\Local\\Temp\\ipykernel_23528\\4648074.py\"\u001b[1;36m, line \u001b[1;32m1\u001b[0m\n\u001b[1;33m    pip install gensim\u001b[0m\n\u001b[1;37m              ^\u001b[0m\n\u001b[1;31mSyntaxError\u001b[0m\u001b[1;31m:\u001b[0m invalid syntax\n"
     ]
    }
   ],
   "source": [
    "pip install gensim\n",
    "pip install wikipedia2vec"
   ]
  },
  {
   "cell_type": "code",
   "execution_count": null,
   "metadata": {},
   "outputs": [],
   "source": [
    "from wikipedia2vec import Wikipedia2Vec\n",
    "from gensim.test.utils import datapath\n",
    "from gensim.models import KeyedVectors\n",
    "\n",
    "MODEL_PATH = \"enwiki_20180420_100d.txt\"\n",
    "\n",
    "# Takes 11m 32.5s\n",
    "wv_from_text = KeyedVectors.load_word2vec_format((MODEL_PATH), binary=False)\n"
   ]
  },
  {
   "cell_type": "code",
   "execution_count": null,
   "metadata": {},
   "outputs": [],
   "source": []
  },
  {
   "cell_type": "code",
   "execution_count": null,
   "metadata": {},
   "outputs": [
    {
     "data": {
      "text/plain": [
       "[('ENTITY/Ukraine', 0.8916355967521667),\n",
       " ('belarus', 0.888225257396698),\n",
       " ('rivne', 0.8229362964630127),\n",
       " ('ternopil', 0.8213138580322266),\n",
       " ('vinnytsia', 0.8198360800743103),\n",
       " ('kharkiv', 0.8192664980888367),\n",
       " ('lviv', 0.8175711035728455),\n",
       " ('russia', 0.8113815188407898),\n",
       " ('frankivsk', 0.8110743761062622),\n",
       " ('ukrainian', 0.8106153607368469)]"
      ]
     },
     "execution_count": 7,
     "metadata": {},
     "output_type": "execute_result"
    }
   ],
   "source": [
    "wv_from_text.most_similar(positive=['ukraine'])"
   ]
  },
  {
   "cell_type": "code",
   "execution_count": null,
   "metadata": {},
   "outputs": [
    {
     "data": {
      "text/plain": [
       "[('ukraine', 0.8113813996315002),\n",
       " ('ENTITY/Russia', 0.8110665082931519),\n",
       " ('kazakhstan', 0.802672803401947),\n",
       " ('belarus', 0.800453245639801),\n",
       " ('yekaterinburg', 0.7816581130027771),\n",
       " ('tartarstan', 0.7815535664558411),\n",
       " ('moscow', 0.7720255255699158),\n",
       " ('15471584', 0.7660513520240784),\n",
       " ('kaliningrad', 0.7582147717475891),\n",
       " ('urals', 0.7565478682518005)]"
      ]
     },
     "execution_count": 8,
     "metadata": {},
     "output_type": "execute_result"
    }
   ],
   "source": [
    "wv_from_text.most_similar(positive=['russia'])"
   ]
  },
  {
   "cell_type": "code",
   "execution_count": null,
   "metadata": {},
   "outputs": [
    {
     "data": {
      "text/plain": [
       "[('sanctioned', 0.7369568943977356),\n",
       " ('sanctioning', 0.7306732535362244),\n",
       " ('sanctions', 0.718333899974823),\n",
       " ('revoking', 0.7159944772720337),\n",
       " ('revoke', 0.715387225151062),\n",
       " ('rescind', 0.7072172164916992),\n",
       " ('stipulations', 0.6976112127304077),\n",
       " ('deditio', 0.6960795521736145),\n",
       " ('revoked', 0.6935349702835083),\n",
       " ('retrospectivity', 0.6914761066436768)]"
      ]
     },
     "execution_count": 9,
     "metadata": {},
     "output_type": "execute_result"
    }
   ],
   "source": [
    "wv_from_text.most_similar(positive=['sanction'])"
   ]
  },
  {
   "cell_type": "code",
   "execution_count": null,
   "metadata": {},
   "outputs": [
    {
     "data": {
      "text/plain": [
       "[('crimean', 0.8625871539115906),\n",
       " ('ENTITY/Crimea', 0.8603824377059937),\n",
       " ('sevastopol', 0.8237816095352173),\n",
       " ('ENTITY/Autonomous_Republic_of_Crimea', 0.8013858795166016),\n",
       " ('caucasus', 0.8003067374229431),\n",
       " ('ENTITY/Sevastopol', 0.7968735694885254),\n",
       " ('abkhazia', 0.7956523299217224),\n",
       " ('aqyar', 0.7920345067977905),\n",
       " ('feodosia', 0.789340615272522),\n",
       " ('kerch', 0.7874438762664795)]"
      ]
     },
     "execution_count": 10,
     "metadata": {},
     "output_type": "execute_result"
    }
   ],
   "source": [
    "wv_from_text.most_similar(positive=['crimea'])"
   ]
  },
  {
   "cell_type": "code",
   "execution_count": null,
   "metadata": {},
   "outputs": [
    {
     "data": {
      "text/plain": [
       "[('donbas', 0.875837504863739),\n",
       " ('ENTITY/Donbass', 0.8166588544845581),\n",
       " ('ENTITY/War_in_Donbass', 0.8134056925773621),\n",
       " ('ENTITY/Donets#Geography_and_hydrology', 0.7773705720901489),\n",
       " ('kramatorsk', 0.7690269947052002),\n",
       " ('ilovaisk', 0.7655662298202515),\n",
       " ('mariupol', 0.7652601599693298),\n",
       " ('ENTITY/Luhansk_Oblast', 0.7632381319999695),\n",
       " ('debaltsevo', 0.7609618902206421),\n",
       " ('rovenky', 0.7597677707672119)]"
      ]
     },
     "execution_count": 11,
     "metadata": {},
     "output_type": "execute_result"
    }
   ],
   "source": [
    "wv_from_text.most_similar(positive=['donbass'])"
   ]
  },
  {
   "cell_type": "code",
   "execution_count": null,
   "metadata": {},
   "outputs": [
    {
     "data": {
      "text/plain": [
       "[('ENTITY/Kiev', 0.9116911292076111),\n",
       " ('kharkiv', 0.8846046328544617),\n",
       " ('lviv', 0.8785252571105957),\n",
       " ('kyiv', 0.8708134293556213),\n",
       " ('chernihiv', 0.863882303237915),\n",
       " ('lvov', 0.8503857254981995),\n",
       " ('kharkov', 0.8488938212394714),\n",
       " ('volodymyr', 0.8428213000297546),\n",
       " ('zhytomyr', 0.8426886200904846),\n",
       " ('poltava', 0.841640055179596)]"
      ]
     },
     "execution_count": 12,
     "metadata": {},
     "output_type": "execute_result"
    }
   ],
   "source": [
    "wv_from_text.most_similar(positive=['kiev'])"
   ]
  },
  {
   "cell_type": "code",
   "execution_count": null,
   "metadata": {},
   "outputs": [
    {
     "data": {
      "text/plain": [
       "[('drones', 0.8597627282142639),\n",
       " ('ababil', 0.7620076537132263),\n",
       " ('skyprowler', 0.7281385064125061),\n",
       " ('mechanaughts', 0.7275535464286804),\n",
       " ('ucavs', 0.7260419130325317),\n",
       " ('svbied', 0.7214287519454956),\n",
       " ('ambessence', 0.7185141444206238),\n",
       " ('3205th', 0.718436598777771),\n",
       " ('satuma', 0.7164090275764465),\n",
       " ('ENTITY/Pyros_(bomb)', 0.716185986995697)]"
      ]
     },
     "execution_count": 13,
     "metadata": {},
     "output_type": "execute_result"
    }
   ],
   "source": [
    "wv_from_text.most_similar(positive=['drone'])"
   ]
  },
  {
   "cell_type": "code",
   "execution_count": null,
   "metadata": {},
   "outputs": [
    {
     "data": {
      "text/plain": [
       "[('missiles', 0.9134847521781921),\n",
       " ('ballistic', 0.870313286781311),\n",
       " ('icbm', 0.8484668135643005),\n",
       " ('mrbm', 0.8381847143173218),\n",
       " ('ENTITY/Ballistic_missile', 0.8278685212135315),\n",
       " ('slbm', 0.826542854309082),\n",
       " ('icbms', 0.8182637691497803),\n",
       " ('brbm', 0.8161768913269043),\n",
       " ('ENTITY/Surface-to-surface_missile', 0.8117130994796753),\n",
       " ('seasparrow', 0.8107771277427673)]"
      ]
     },
     "execution_count": 14,
     "metadata": {},
     "output_type": "execute_result"
    }
   ],
   "source": [
    "wv_from_text.most_similar(positive=['missile'])"
   ]
  },
  {
   "cell_type": "code",
   "execution_count": null,
   "metadata": {},
   "outputs": [
    {
     "data": {
      "text/plain": [
       "[('corps', 0.820118248462677),\n",
       " ('forces', 0.8026898503303528),\n",
       " ('troops', 0.7948513627052307),\n",
       " ('armies', 0.7779507637023926),\n",
       " ('expeditionary', 0.7663358449935913),\n",
       " ('brigade', 0.7611337304115295),\n",
       " ('cavalry', 0.7610782384872437),\n",
       " ('soldiers', 0.7584280967712402),\n",
       " ('military', 0.7572802901268005),\n",
       " ('hullyeondae', 0.7566160559654236)]"
      ]
     },
     "execution_count": 15,
     "metadata": {},
     "output_type": "execute_result"
    }
   ],
   "source": [
    "wv_from_text.most_similar(positive=['army'])"
   ]
  },
  {
   "cell_type": "code",
   "execution_count": null,
   "metadata": {},
   "outputs": [
    {
     "data": {
      "text/plain": [
       "[('targets', 0.8499306440353394),\n",
       " ('targeting', 0.8013738393783569),\n",
       " ('targeted', 0.7695007920265198),\n",
       " ('druggable', 0.7485793828964233),\n",
       " ('ratscat', 0.7394058704376221),\n",
       " ('targeter', 0.7353816628456116),\n",
       " ('darkhotel', 0.7282263040542603),\n",
       " ('glsdb', 0.7280399203300476),\n",
       " ('96l6e', 0.7258893847465515),\n",
       " ('siaswfcs', 0.7199010848999023)]"
      ]
     },
     "execution_count": 16,
     "metadata": {},
     "output_type": "execute_result"
    }
   ],
   "source": [
    "wv_from_text.most_similar(positive=['target'])"
   ]
  },
  {
   "cell_type": "markdown",
   "metadata": {},
   "source": [
    "# Training existing model"
   ]
  },
  {
   "cell_type": "markdown",
   "metadata": {},
   "source": [
    "Training Sources:\n",
    "- https://qz.com/2142992/transcript-of-volodymyr-zelenskyys-speech-to-the-us-congress/\n",
    "- https://kyivindependent.com/national/zelenskys-full-speech-at-munich-security-conference/\n",
    "- https://www.timesofisrael.com/full-text-ukraine-president-zelenskys-speech-to-israeli-lawmakers/\n",
    "- https://www.theguardian.com/world/2022/mar/08/thirteen-days-of-struggle-volodymyr-zelenskiys-speech-to-uk-parliament-transcript\n",
    "- https://edition.cnn.com/2022/03/24/politics/zelensky-speech-nato-transcript/index.html"
   ]
  },
  {
   "cell_type": "code",
   "execution_count": null,
   "metadata": {},
   "outputs": [
    {
     "data": {
      "text/plain": [
       "4530030"
      ]
     },
     "execution_count": 57,
     "metadata": {},
     "output_type": "execute_result"
    }
   ],
   "source": [
    "from gensim.models import Word2Vec\n",
    "old_model = wv_from_text\n",
    "len(old_model)"
   ]
  },
  {
   "cell_type": "markdown",
   "metadata": {},
   "source": [
    "Alternativ:\n",
    "\n",
    "https://radimrehurek.com/gensim/models/word2vec.html#gensim.models.word2vec.LineSentence"
   ]
  },
  {
   "cell_type": "code",
   "execution_count": null,
   "metadata": {},
   "outputs": [
    {
     "name": "stdout",
     "output_type": "stream",
     "text": [
      "<class 'gensim.models.word2vec.Word2Vec'>\n",
      "<class 'gensim.models.word2vec.Word2Vec'>\n"
     ]
    },
    {
     "data": {
      "text/plain": [
       "[('ENTITY/Ukraine', 0.8916355967521667),\n",
       " ('belarus', 0.888225257396698),\n",
       " ('rivne', 0.8229362964630127),\n",
       " ('ternopil', 0.8213138580322266),\n",
       " ('vinnytsia', 0.8198360800743103),\n",
       " ('kharkiv', 0.8192664980888367),\n",
       " ('lviv', 0.8175711035728455),\n",
       " ('russia', 0.8113815188407898),\n",
       " ('frankivsk', 0.8110743761062622),\n",
       " ('ukrainian', 0.8106153607368469)]"
      ]
     },
     "execution_count": 54,
     "metadata": {},
     "output_type": "execute_result"
    }
   ],
   "source": [
    "new_model = Word2Vec(window=5, min_count=1, workers=4)\n",
    "print(type(new_model))\n",
    "\n",
    "new_model.wv = old_model\n",
    "print(len(new_model.wv))\n",
    "new_model.wv.most_similar('ukraine', topn=10)\n"
   ]
  },
  {
   "cell_type": "code",
   "execution_count": null,
   "metadata": {},
   "outputs": [
    {
     "name": "stdout",
     "output_type": "stream",
     "text": [
      "10\n",
      "10\n"
     ]
    },
    {
     "data": {
      "text/plain": [
       "0"
      ]
     },
     "execution_count": 66,
     "metadata": {},
     "output_type": "execute_result"
    }
   ],
   "source": [
    "print(f\"{new_model.corpus_count}\")\n",
    "print(f\"{new_model.corpus_total_words}\")\n"
   ]
  },
  {
   "cell_type": "markdown",
   "metadata": {},
   "source": [
    "https://datascience.stackexchange.com/questions/49431/how-to-train-an-existing-word2vec-gensim-model-on-new-words\n",
    "\n",
    "Collect first data from:\n",
    "https://qz.com/2142992/transcript-of-volodymyr-zelenskyys-speech-to-the-us-congress/"
   ]
  },
  {
   "cell_type": "code",
   "execution_count": 133,
   "metadata": {},
   "outputs": [
    {
     "name": "stdout",
     "output_type": "stream",
     "text": [
      "2\n",
      "['Ukrainian', 'president', 'Volodymyr', 'Zelenskyy', 'addressed', 'the', 'US', 'Congress', 'on', 'March', '16']\n",
      "['Below', 'is', 'a', 'translated', 'transcript', 'of', 'his', 'speech,', 'primarily', 'delivered', 'in', 'Ukrainian,', 'and', 'taken', 'from', 'theC-Span', 'network']\n",
      "['Thank', 'you', 'very', 'much,', 'madam', 'speaker,', 'members', 'of', 'Congress,', 'ladies', 'and', 'gentlemen']\n",
      "['Americans,', 'friends']\n",
      "['I', 'am', 'proud', 'to', 'greet', 'you', 'from', 'Ukraine,', 'from', 'our', 'capital', 'city', 'of', 'Kyiv,', 'the', 'city', 'under', 'missile', 'and', 'airstrikes', 'from', 'Russians', 'every', 'day']\n",
      "['It', 'does', 'not', 'give', 'up']\n",
      "['We', 'have', 'not', 'even', 'thought', 'about', 'it', 'for', 'a', 'second']\n",
      "['Just', 'like', 'many', 'other', 'cities', 'and', 'communities', 'in', 'our', 'beautiful', 'country', 'which', 'found', 'themselves', 'in', 'the', 'worst', 'war', 'since', 'World', 'War', 'II']\n",
      "['I', 'have', 'been', 'honored', 'to', 'greet', 'you', 'on', 'behalf', 'of', 'the', 'Ukrainian', 'people', 'and', 'freedom-loving', 'people', 'who', 'for', 'years', 'have', 'been', 'resisting', 'Russian', 'aggression']\n",
      "['Those', 'who', 'give', 'their', 'best', 'sons', 'and', 'daughters', 'to', 'stop', 'this', 'full-scale', 'Russian', 'invasion']\n",
      "['Right', 'now,', 'the', 'destiny', 'of', 'our', 'country', 'is', 'being', 'decided']\n",
      "['The', 'destiny', 'of', 'our', 'people,', 'whether', 'Ukrainians', 'will', 'be', 'free,', 'whether', 'they', 'will', 'be', 'able', 'to', 'preserve', 'their', 'democracy']\n",
      "['Russia', 'has', 'attacked', 'not', 'just', 'us,', 'not', 'just', 'our', 'land,', 'our', 'cities']\n",
      "['It', 'went', 'on', 'a', 'brutal', 'offensive', 'against', 'our', 'values']\n",
      "['Basic', 'human', 'values']\n",
      "['Against', 'our', 'freedom,', 'our', 'right', 'to', 'live', 'freely,', 'choosing', 'our', 'own', 'future']\n",
      "['Against', 'our', 'desire', 'for', 'happiness,', 'against', 'our', 'national', 'dreams']\n",
      "['Just', 'like', 'the', 'same', 'things', 'you', 'have,', 'you', 'Americans']\n",
      "['Just', 'like', 'anyone', 'else', 'in', 'the', 'United', 'States']\n",
      "['I', 'remember', 'the', 'national', 'memorial', 'Mount', 'Rushmore']\n",
      "['the', 'faces', 'of', 'your', 'prominent', 'presidents,', 'those', 'who', 'laid', 'the', 'foundation', 'of', 'the', 'United', 'States', 'of', 'America']\n",
      "['Democracy,', 'independence,', 'freedom']\n",
      "['For', 'every', 'person', 'who', 'works', 'diligently,', 'who', 'lives', 'honestly,', 'who', 'respects', 'the', 'law,', 'we', 'in', 'Ukraine', 'want', 'the', 'same', 'for', 'our', 'people']\n",
      "['All', 'that', 'is', 'a', 'normal', 'part', 'of', 'your', 'own', 'life']\n",
      "['Ladies', 'and', 'gentlemen,', 'Americans,', 'in', 'your', 'great', 'history', 'you', 'would', 'understand', 'Ukrainians']\n",
      "['Understand', 'us', 'now']\n",
      "['We', 'need', 'you', 'right', 'now']\n",
      "['Remember', 'Pearl', 'Harbor']\n",
      "['The', 'morning', 'of', 'December', '7,', '1941,', 'when', 'your', 'sky', 'was', 'black', 'from', 'the', 'planes', 'attacking', 'you']\n",
      "['Remember', 'September', '11']\n",
      "['A', 'terrible', 'day', 'in', '2001', 'when', 'people', 'tried', 'to', 'turn', 'your', 'cities', 'into', 'battlefields']\n",
      "['When', 'innocent', 'people', 'were', 'attacked', 'attacked', 'from', 'the', 'air']\n",
      "['No', 'one', 'expected', 'it']\n",
      "['You', 'couldn’t', 'stop', 'it']\n",
      "['Our', 'country', 'experiences', 'the', 'same', 'every', 'day']\n",
      "['Right', 'now,', 'this', 'moment,', 'every', 'night', 'for', 'three', 'weeks,', 'in', 'various', 'Ukrainian', 'cities,', 'Russia', 'has', 'turned', 'the', 'Ukrainian', 'sky', 'into', 'a', 'source', 'of', 'death', 'for', 'thousands', 'of', 'people']\n",
      "['Russian', 'troops', 'have', 'fired', '1000', 'missiles', 'at', 'Ukraine']\n",
      "['They', 'use', 'drones', 'to', 'kill', 'us', 'with', 'precision']\n",
      "['This', 'is', 'a', 'terror', 'Europe', 'has', 'not', 'seen', 'for', '80', 'years', 'and', 'we', 'are', 'asking', 'for', 'an', 'answer', 'to', 'this', 'terror', 'from', 'the', 'world']\n",
      "['Is', 'that', 'a', 'lot', 'to', 'ask?', 'To', 'create', 'a', 'no-fly', 'zone', 'over', 'Ukraine', 'to', 'save', 'people']\n",
      "['Is', 'this', 'too', 'much', 'to', 'ask?', 'A', 'no-fly', 'zone']\n",
      "['Russia', 'would', 'not', 'be', 'able', 'to', 'terrorize', 'our', 'cities']\n",
      "['If', 'this', 'is', 'too', 'much', 'to', 'ask,', 'we', 'offer', 'an', 'alternative']\n",
      "['You', 'know', 'what', 'kind', 'of', 'defense', 'systems', 'we', 'need']\n",
      "['You', 'know', 'how', 'much', 'depends', 'on', 'the', 'ability', 'to', 'use', 'aircraft', 'to', 'protect', 'our', 'people,', 'our', 'freedom']\n",
      "['aircraft', 'that', 'can', 'help', 'Ukraine,', 'help', 'Europe']\n",
      "['We', 'know', 'they', 'exist', 'and', 'you', 'have', 'them']\n",
      "['They', 'are', 'not', 'in', 'Ukrainian', 'skies']\n",
      "['“I', 'have', 'a', 'dream']\n",
      "['I', 'have', 'a', 'need']\n",
      "['I', 'have', 'a', 'dream']\n",
      "['I', 'have', 'a', 'need']\n",
      "['I', 'need', 'to', 'protect', 'our', 'skies']\n",
      "['I', 'need', 'your', 'help,', 'which', 'means', 'the', 'same', 'you', 'feel', 'when', 'you', 'hear', 'the', 'words', 'I', 'have', 'a', 'dream']\n",
      "['Ladies', 'and', 'gentlemen,', 'friends']\n",
      "['Ukraine', 'is', 'grateful', 'to', 'the', 'United', 'States', 'for', 'its', 'overwhelming', 'support']\n",
      "['Everything', 'your', 'government', 'and', 'your', 'people', 'have', 'done', 'for', 'us,', 'for', 'weapons', 'and', 'training,', 'for', 'leadership', 'to', 'pressure', 'the', 'aggressor', 'economically']\n",
      "['I', 'am', 'grateful', 'to', 'president', 'Biden', 'for', 'his', 'sincere', 'commitment', 'to', 'the', 'defense', 'of', 'Ukraine', 'and', 'democracy', 'all', 'over', 'the', 'world']\n",
      "['I', 'am', 'grateful', 'to', 'you', 'for', 'the', 'resolution', 'which', 'recognizes', 'all', 'of', 'those', 'who', 'commit', 'crimes', 'against', 'Ukraine', 'as', 'war', 'criminals']\n",
      "['In', 'the', 'darkest', 'times', 'for', 'our', 'country', 'I', 'call', 'on', 'you', 'to', 'do', 'more']\n",
      "['New', 'sanctions', 'are', 'needed', 'constantly', 'every', 'week', 'until', 'the', 'Russian', 'military', 'machine', 'stops']\n",
      "['Restrictions', 'are', 'needed', 'for', 'everyone', 'on', 'whom', 'this', 'unjust', 'regime', 'is', 'based:', 'all', 'politicians', 'in', 'the', 'Russian', 'Federation', 'who', 'remain', 'in', 'their', 'offices', 'and', 'do', 'not', 'cut', 'ties', 'with', 'those', 'who', 'are', 'responsible', 'for', 'the', 'aggression', 'against', 'Ukraine', 'from', 'the', 'state', 'duma', 'members', 'upwards']\n",
      "['All', 'American', 'companies', 'must', 'leave', 'Russia', 'from', 'their', 'market', 'immediately', 'because', 'it', 'is', 'flooded', 'with', 'our', 'blood']\n",
      "['Ladies', 'and', 'gentlemen,', 'members', 'of', 'Congress']\n",
      "['If', 'you', 'have', 'companies', 'in', 'your', 'district', 'who', 'financed', 'the', 'Russian', 'military', 'machine,', 'you', 'should', 'put', 'pressure']\n",
      "['I', 'am', 'asking', 'to', 'make', 'sure', 'the', 'Russians', 'do', 'not', 'receive', 'a', 'single', 'penny', 'they', 'used', 'to', 'destroy', 'people', 'in', 'Ukraine,', 'the', 'destruction', 'of', 'our', 'country,', 'the', 'destruction', 'of', 'Europe']\n",
      "['All', 'American', 'ports', 'should', 'be', 'closed', 'for', 'Russian', 'goods']\n",
      "['Peace', 'is', 'more', 'important', 'than', 'income,', 'and', 'we', 'have', 'to', 'defend', 'this', 'principle', 'in', 'the', 'whole', 'world']\n",
      "['We', 'have', 'to', 'defend', 'the', 'world']\n",
      "['We', 'already', 'became', 'part', 'of', 'the', 'antiwar', 'coalition,', 'the', 'big', 'antiwar', 'coalition', 'that', 'unites', 'many', 'countries,', 'dozens', 'of', 'countries,', 'those', 'who', 'reacted', 'to', 'president', 'Putin’s', 'decision', 'to', 'invade', 'our', 'country']\n",
      "['We', 'need', 'to', 'move', 'on', 'and', 'do', 'more']\n",
      "['We', 'need', 'to', 'create', 'more', 'tools', 'to', 'respond', 'quickly', 'and', 'stop', 'the', 'full-scale', 'Russian', 'invasion', 'of', 'Ukraine,', 'which', 'began', 'on', 'February', '24']\n",
      "['It', 'would', 'be', 'fair', 'if', 'it', 'ended', 'in', '24', 'hours,', 'that', 'people', 'would', 'be', 'punished,', 'that', 'evil', 'would', 'be', 'punished']\n",
      "['Today', 'the', 'people', 'do', 'not', 'have', 'such', 'tools']\n",
      "['Institutions', 'should', 'protect', 'us', 'from', 'war', 'but', 'they', 'unfortunately', 'do', 'not', 'work']\n",
      "['We', 'need', 'new', 'alliances', 'and', 'we', 'offer', 'them']\n",
      "['We', 'propose', 'to', 'create', 'an', 'association,', 'united', 'for', 'peace,', 'a', 'union', 'of', 'responsible', 'countries', 'to', 'stop', 'conflict', 'immediately,', 'provide', 'all', 'the', 'necessary', 'assistance', 'in', '24', 'hours,', 'weapons', 'if', 'necessary,', 'sanctions', 'if', 'necessary,', 'humanitarian', 'support,', 'finances,', 'everything', 'you', 'need', 'to', 'keep', 'the', 'peace', 'and', 'quickly', 'to', 'save', 'the', 'world,', 'to', 'save', 'life']\n",
      "['Such', 'associations', 'would', 'provide', 'assistance', 'to', 'those', 'who', 'are', 'experiencing', 'natural', 'disasters,', 'who', 'fell', 'victim', 'to', 'humanitarian', 'crisis', 'or', 'epidemics']\n",
      "['Remember', 'how', 'difficult', 'it', 'was', 'for', 'the', 'world', 'to', 'do', 'the', 'simplest', 'things', 'just', 'to', 'get', 'a', 'vaccine', 'against', 'covid', 'to', 'save', 'lives,', 'to', 'prevent', 'new', 'strains']\n",
      "['The', 'world', 'spent', 'months,', 'years', 'doing', 'things', 'like', 'that', 'much', 'faster', 'to', 'make', 'sure', 'there', 'are', 'no', 'victims']\n",
      "['Ladies', 'and', 'gentlemen,', 'if', 'such', 'an', 'alliance', 'would', 'exist', 'today', 'we', 'would', 'be', 'able', 'to', 'save', 'thousands', 'of', 'lives', 'in', 'our', 'country,', 'in', 'many', 'countries', 'around', 'the', 'world,', 'those', 'who', 'need', 'peace,', 'those', 'who', 'suffer', 'inhumane', 'destruction']\n",
      "['I', 'ask', 'you', 'to', 'watch', 'one', 'video']\n",
      "['a', 'video', 'of', 'what', 'the', 'Russian', 'troops', 'did', 'in', 'our', 'country,', 'in', 'our', 'land']\n",
      "['We', 'have', 'to', 'destroy', 'every', 'single', 'aggressor', 'who', 'seeks', 'to', 'subjugate', 'other', 'nations']\n",
      "['Please', 'watch', 'the', 'video']\n",
      "['In', 'the', 'end,', 'to', 'be', 'the', 'leader', 'of', 'the', 'world', 'means', 'to', 'be', 'the', 'leader', 'of', 'peace']\n",
      "['Peace', 'in', 'your', 'country', 'does', 'not', 'depend', 'only', 'on', 'you', 'and', 'your', 'people']\n",
      "['It', 'depends', 'on', 'those', 'next', 'to', 'you,', 'on', 'those', 'who', 'are', 'strong']\n",
      "['Strong', 'does', 'not', 'mean', 'weak']\n",
      "['Strong', 'is', 'brave', 'and', 'ready', 'to', 'fight', 'for', 'his', 'citizens', 'as', 'citizens', 'of', 'the', 'world']\n",
      "['For', 'human', 'rights']\n",
      "['For', 'freedom']\n",
      "['The', 'right', 'to', 'live', 'decently', 'and', 'die', 'when', 'your', 'time', 'comes', 'and', 'not', 'when', 'decided', 'by', 'somebody', 'else']\n",
      "['Today', 'the', 'Ukrainian', 'people', 'are', 'defending', 'not', 'only', 'Ukraine']\n",
      "['We', 'are', 'fighting', 'for', 'Europe', 'and', 'the', 'world', 'and', 'our', 'lives', 'in', 'the', 'name', 'of', 'the', 'future']\n",
      "['That', 'is', 'why', 'today', 'the', 'American', 'people', 'are', 'helping', 'not', 'just', 'Ukraine,', 'but', 'Europe', 'and', 'the', 'world', 'to', 'keep', 'the', 'planet', 'alive']\n",
      "['To', 'keep', 'justice', 'in', 'history']\n",
      "['I', 'am', 'almost', '45', 'years', 'old']\n",
      "['Today', 'my', 'age', 'stopped', 'when', 'the', 'hearts', 'of', 'more', 'than', '100', 'children', 'stopped', 'beating']\n",
      "['I', 'see', 'no', 'sense', 'in', 'life', 'if', 'it', 'cannot', 'stop', 'the', 'deaths']\n",
      "['This', 'is', 'my', 'mission', 'as', 'a', 'leader', 'of', 'my', 'people']\n",
      "['and', 'as', 'a', 'leader', 'of', 'my', 'nation']\n",
      "['I’m', 'addressing', 'president', 'Biden']\n",
      "['You', 'are', 'the', 'leader', 'of', 'the', 'nation,', 'of', 'your', 'great', 'nation']\n",
      "['I', 'wish', 'you', 'to', 'be', 'the', 'leader', 'of', 'the', 'world']\n",
      "['Being', 'the', 'leader', 'of', 'the', 'world', 'means', 'to', 'be', 'the', 'leader', 'of', 'peace']\n"
     ]
    }
   ],
   "source": [
    "import requests\n",
    "import html2text\n",
    "import html\n",
    "\n",
    "sentences_source_one = []\n",
    "\n",
    "url = 'https://qz.com/2142992/transcript-of-volodymyr-zelenskyys-speech-to-the-us-congress/'\n",
    "r = requests.get(url)\n",
    "content = r.text.split('<div id=\"article-content\"><div>')\n",
    "print(len(content))\n",
    "h = html2text.HTML2Text()\n",
    "h.ignore_links = True\n",
    "new_content = h.handle(content[1])\n",
    "\n",
    "new_content = str(new_content).replace(\"\\n\", \" \")\n",
    "new_content = str(new_content).replace(\"_\", \" \")\n",
    "new_content = str(new_content).replace(\"#\", \" \")\n",
    "new_content = str(new_content).split(\"Thank you. Glory to Ukraine.\")[0]\n",
    "new_content = str(new_content).split(\".\")\n",
    "\n",
    "for content in new_content:\n",
    "    if content != \" \":\n",
    "        if \"”\" in content:\n",
    "            #print(content.split(\"”\")[1].strip()+\".\")\n",
    "            sentences_source_one.append(content.split(\"”\")[1].strip().split(\" \"))\n",
    "        else:\n",
    "            sentences_source_one.append(content.strip().split(\" \"))\n",
    "            #print(content.strip()+\".\")\n",
    "\n",
    "for sentence in sentences_source_one:\n",
    "    if len(sentence) < 2:\n",
    "        sentences_source_one.remove(sentence)\n",
    "\n",
    "for sentence in sentences_source_one:\n",
    "    print(sentence)\n"
   ]
  },
  {
   "cell_type": "code",
   "execution_count": 135,
   "metadata": {},
   "outputs": [
    {
     "name": "stderr",
     "output_type": "stream",
     "text": [
      "Exception in thread Thread-14:\n",
      "Traceback (most recent call last):\n",
      "  File \"G:\\python\\lib\\threading.py\", line 926, in _bootstrap_inner\n",
      "    self.run()\n",
      "  File \"G:\\python\\lib\\threading.py\", line 870, in run\n",
      "    self._target(*self._args, **self._kwargs)\n",
      "  File \"G:\\python\\lib\\site-packages\\gensim\\models\\word2vec.py\", line 1163, in _worker_loop\n",
      "    tally, raw_tally = self._do_train_job(data_iterable, alpha, thread_private_mem)\n",
      "  File \"G:\\python\\lib\\site-packages\\gensim\\models\\word2vec.py\", line 954, in _do_train_job\n",
      "    tally += train_batch_cbow(self, sentences, alpha, work, neu1, self.compute_loss)\n",
      "  File \"gensim\\models\\word2vec_inner.pyx\", line 632, in gensim.models.word2vec_inner.train_batch_cbow\n",
      "  File \"gensim\\models\\word2vec_inner.pyx\", line 479, in gensim.models.word2vec_inner.init_w2v_config\n",
      "AttributeError: 'KeyedVectors' object has no attribute 'vectors_lockf'\n",
      "\n"
     ]
    }
   ],
   "source": [
    "new_model.build_vocab(sentences_source_one, update=True)\n",
    "new_model.train(sentences_source_one, total_examples=len(sentences_source_one), epochs=5)\n"
   ]
  }
 ],
 "metadata": {
  "interpreter": {
   "hash": "ac59ebe37160ed0dfa835113d9b8498d9f09ceb179beaac4002f036b9467c963"
  },
  "kernelspec": {
   "display_name": "Python 3.9.4 64-bit",
   "language": "python",
   "name": "python3"
  },
  "language_info": {
   "codemirror_mode": {
    "name": "ipython",
    "version": 3
   },
   "file_extension": ".py",
   "mimetype": "text/x-python",
   "name": "python",
   "nbconvert_exporter": "python",
   "pygments_lexer": "ipython3",
   "version": "3.7.9"
  },
  "orig_nbformat": 4
 },
 "nbformat": 4,
 "nbformat_minor": 2
}
