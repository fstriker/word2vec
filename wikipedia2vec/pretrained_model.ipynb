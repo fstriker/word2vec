{
 "cells": [
  {
   "cell_type": "markdown",
   "metadata": {},
   "source": [
    "# Semantic Technology"
   ]
  },
  {
   "cell_type": "markdown",
   "metadata": {},
   "source": [
    "Sources:\n",
    "- https://wikipedia2vec.github.io/wikipedia2vec/usage/\n",
    "- https://radimrehurek.com/gensim/search.html?q=learn+from+websites&check_keywords=yes&area=default\n",
    "- https://pypi.org/project/wikipedia2vec/1.0.5/\n",
    "- https://datascience.stackexchange.com/questions/49431/how-to-train-an-existing-word2vec-gensim-model-on-new-words\n",
    "\n",
    "\n",
    "Training Sources:\n",
    "- https://qz.com/2142992/transcript-of-volodymyr-zelenskyys-speech-to-the-us-congress/\n",
    "- https://kyivindependent.com/national/zelenskys-full-speech-at-munich-security-conference/\n",
    "- https://www.timesofisrael.com/full-text-ukraine-president-zelenskys-speech-to-israeli-lawmakers/\n",
    "- https://www.theguardian.com/world/2022/mar/08/thirteen-days-of-struggle-volodymyr-zelenskiys-speech-to-uk-parliament-transcript\n",
    "- https://edition.cnn.com/2022/03/24/politics/zelensky-speech-nato-transcript/index.html"
   ]
  },
  {
   "cell_type": "code",
   "execution_count": 98,
   "metadata": {},
   "outputs": [],
   "source": [
    "#pip install html2text"
   ]
  },
  {
   "cell_type": "code",
   "execution_count": 99,
   "metadata": {},
   "outputs": [],
   "source": [
    "#pip install requests"
   ]
  },
  {
   "cell_type": "code",
   "execution_count": 100,
   "metadata": {},
   "outputs": [],
   "source": [
    "#pip install wikipedia2vec"
   ]
  },
  {
   "cell_type": "code",
   "execution_count": 101,
   "metadata": {},
   "outputs": [],
   "source": [
    "#pip install gensim\n"
   ]
  },
  {
   "cell_type": "code",
   "execution_count": 102,
   "metadata": {},
   "outputs": [],
   "source": [
    "from wikipedia2vec import Wikipedia2Vec\n",
    "from gensim.test.utils import datapath\n",
    "from gensim.models import KeyedVectors\n",
    "\n",
    "MODEL_PATH = \"enwiki_20180420_100d.txt\"\n",
    "\n",
    "# Takes around: 11m 32.5s\n",
    "wv_from_text = KeyedVectors.load_word2vec_format((MODEL_PATH), binary=False)\n"
   ]
  },
  {
   "cell_type": "code",
   "execution_count": 103,
   "metadata": {},
   "outputs": [
    {
     "data": {
      "text/plain": [
       "[('ENTITY/Ukraine', 0.8916355967521667),\n",
       " ('belarus', 0.888225257396698),\n",
       " ('rivne', 0.8229362964630127),\n",
       " ('ternopil', 0.8213138580322266),\n",
       " ('vinnytsia', 0.8198360800743103),\n",
       " ('kharkiv', 0.8192664980888367),\n",
       " ('lviv', 0.8175711035728455),\n",
       " ('russia', 0.8113815188407898),\n",
       " ('frankivsk', 0.8110743761062622),\n",
       " ('ukrainian', 0.8106153607368469)]"
      ]
     },
     "execution_count": 103,
     "metadata": {},
     "output_type": "execute_result"
    }
   ],
   "source": [
    "wv_from_text.most_similar(positive=['ukraine'])"
   ]
  },
  {
   "cell_type": "code",
   "execution_count": 104,
   "metadata": {},
   "outputs": [
    {
     "data": {
      "text/plain": [
       "array([-0.0214,  0.0182, -0.2011,  0.1701, -0.175 , -0.3055, -0.0416,\n",
       "       -0.5173,  0.2423, -0.4145,  0.3219, -0.0012, -0.2268, -0.3011,\n",
       "        0.1544,  0.101 ,  0.2251, -0.5355, -0.1571,  0.2717, -0.3546,\n",
       "        0.9193, -0.3132, -0.1918, -0.3202, -0.1104, -0.2342,  0.0768,\n",
       "        0.2848,  0.3656,  0.0302, -0.3069,  0.1712,  0.5927,  0.4725,\n",
       "       -1.1371,  0.533 , -0.2878,  0.3628, -0.3056,  0.6182,  0.5567,\n",
       "       -0.5227,  0.4879, -0.6435, -0.4522,  0.2326,  0.7256, -0.084 ,\n",
       "       -0.3752,  0.1817,  0.7683,  0.3572, -0.1495,  0.2747,  0.4824,\n",
       "        0.966 ,  0.0893, -1.0474, -0.0785,  0.1729,  0.261 , -0.0413,\n",
       "        0.3138,  1.1408, -0.5658, -0.3542,  0.0951,  0.4378, -0.983 ,\n",
       "       -0.1035,  0.2077,  0.0347, -0.0721,  0.0964,  0.5524, -0.218 ,\n",
       "        0.0305, -0.0537, -0.4136, -0.1523, -0.1132,  0.4943, -0.7518,\n",
       "        0.3106,  0.2683,  0.4516, -0.1572, -0.1039, -0.1302,  0.3041,\n",
       "        0.6854,  0.3632, -0.2897,  0.3596, -0.0575, -0.1241,  0.5227,\n",
       "        0.3266,  0.5276], dtype=float32)"
      ]
     },
     "execution_count": 104,
     "metadata": {},
     "output_type": "execute_result"
    }
   ],
   "source": [
    "wv_from_text.get_vector('ukraine')"
   ]
  },
  {
   "cell_type": "code",
   "execution_count": 105,
   "metadata": {},
   "outputs": [
    {
     "data": {
      "text/plain": [
       "[('ukraine', 0.8113813996315002),\n",
       " ('ENTITY/Russia', 0.8110665082931519),\n",
       " ('kazakhstan', 0.802672803401947),\n",
       " ('belarus', 0.800453245639801),\n",
       " ('yekaterinburg', 0.7816581130027771),\n",
       " ('tartarstan', 0.7815535664558411),\n",
       " ('moscow', 0.7720255255699158),\n",
       " ('15471584', 0.7660513520240784),\n",
       " ('kaliningrad', 0.7582147717475891),\n",
       " ('urals', 0.7565478682518005)]"
      ]
     },
     "execution_count": 105,
     "metadata": {},
     "output_type": "execute_result"
    }
   ],
   "source": [
    "wv_from_text.most_similar(positive=['russia'])"
   ]
  },
  {
   "cell_type": "code",
   "execution_count": 106,
   "metadata": {},
   "outputs": [
    {
     "data": {
      "text/plain": [
       "[('sanctioned', 0.7369568943977356),\n",
       " ('sanctioning', 0.7306732535362244),\n",
       " ('sanctions', 0.718333899974823),\n",
       " ('revoking', 0.7159944772720337),\n",
       " ('revoke', 0.715387225151062),\n",
       " ('rescind', 0.7072172164916992),\n",
       " ('stipulations', 0.6976112127304077),\n",
       " ('deditio', 0.6960795521736145),\n",
       " ('revoked', 0.6935349702835083),\n",
       " ('retrospectivity', 0.6914761066436768)]"
      ]
     },
     "execution_count": 106,
     "metadata": {},
     "output_type": "execute_result"
    }
   ],
   "source": [
    "wv_from_text.most_similar(positive=['sanction'])"
   ]
  },
  {
   "cell_type": "code",
   "execution_count": 107,
   "metadata": {},
   "outputs": [
    {
     "data": {
      "text/plain": [
       "[('crimean', 0.8625871539115906),\n",
       " ('ENTITY/Crimea', 0.8603824377059937),\n",
       " ('sevastopol', 0.8237816095352173),\n",
       " ('ENTITY/Autonomous_Republic_of_Crimea', 0.8013858795166016),\n",
       " ('caucasus', 0.8003067374229431),\n",
       " ('ENTITY/Sevastopol', 0.7968735694885254),\n",
       " ('abkhazia', 0.7956523299217224),\n",
       " ('aqyar', 0.7920345067977905),\n",
       " ('feodosia', 0.789340615272522),\n",
       " ('kerch', 0.7874438762664795)]"
      ]
     },
     "execution_count": 107,
     "metadata": {},
     "output_type": "execute_result"
    }
   ],
   "source": [
    "wv_from_text.most_similar(positive=['crimea'])"
   ]
  },
  {
   "cell_type": "code",
   "execution_count": 108,
   "metadata": {},
   "outputs": [
    {
     "data": {
      "text/plain": [
       "[('donbas', 0.875837504863739),\n",
       " ('ENTITY/Donbass', 0.8166588544845581),\n",
       " ('ENTITY/War_in_Donbass', 0.8134056925773621),\n",
       " ('ENTITY/Donets#Geography_and_hydrology', 0.7773705720901489),\n",
       " ('kramatorsk', 0.7690269947052002),\n",
       " ('ilovaisk', 0.7655662298202515),\n",
       " ('mariupol', 0.7652601599693298),\n",
       " ('ENTITY/Luhansk_Oblast', 0.7632381319999695),\n",
       " ('debaltsevo', 0.7609618902206421),\n",
       " ('rovenky', 0.7597677707672119)]"
      ]
     },
     "execution_count": 108,
     "metadata": {},
     "output_type": "execute_result"
    }
   ],
   "source": [
    "wv_from_text.most_similar(positive=['donbass'])"
   ]
  },
  {
   "cell_type": "code",
   "execution_count": 109,
   "metadata": {},
   "outputs": [
    {
     "data": {
      "text/plain": [
       "[('ENTITY/Kiev', 0.9116911292076111),\n",
       " ('kharkiv', 0.8846046328544617),\n",
       " ('lviv', 0.8785252571105957),\n",
       " ('kyiv', 0.8708134293556213),\n",
       " ('chernihiv', 0.863882303237915),\n",
       " ('lvov', 0.8503857254981995),\n",
       " ('kharkov', 0.8488938212394714),\n",
       " ('volodymyr', 0.8428213000297546),\n",
       " ('zhytomyr', 0.8426886200904846),\n",
       " ('poltava', 0.841640055179596)]"
      ]
     },
     "execution_count": 109,
     "metadata": {},
     "output_type": "execute_result"
    }
   ],
   "source": [
    "wv_from_text.most_similar(positive=['kiev'])"
   ]
  },
  {
   "cell_type": "code",
   "execution_count": 110,
   "metadata": {},
   "outputs": [
    {
     "data": {
      "text/plain": [
       "[('drones', 0.8597627282142639),\n",
       " ('ababil', 0.7620076537132263),\n",
       " ('skyprowler', 0.7281385064125061),\n",
       " ('mechanaughts', 0.7275535464286804),\n",
       " ('ucavs', 0.7260419130325317),\n",
       " ('svbied', 0.7214287519454956),\n",
       " ('ambessence', 0.7185141444206238),\n",
       " ('3205th', 0.718436598777771),\n",
       " ('satuma', 0.7164090275764465),\n",
       " ('ENTITY/Pyros_(bomb)', 0.716185986995697)]"
      ]
     },
     "execution_count": 110,
     "metadata": {},
     "output_type": "execute_result"
    }
   ],
   "source": [
    "wv_from_text.most_similar(positive=['drone'])"
   ]
  },
  {
   "cell_type": "code",
   "execution_count": 111,
   "metadata": {},
   "outputs": [
    {
     "data": {
      "text/plain": [
       "[('missiles', 0.9134847521781921),\n",
       " ('ballistic', 0.870313286781311),\n",
       " ('icbm', 0.8484668135643005),\n",
       " ('mrbm', 0.8381847143173218),\n",
       " ('ENTITY/Ballistic_missile', 0.8278685212135315),\n",
       " ('slbm', 0.826542854309082),\n",
       " ('icbms', 0.8182637691497803),\n",
       " ('brbm', 0.8161768913269043),\n",
       " ('ENTITY/Surface-to-surface_missile', 0.8117130994796753),\n",
       " ('seasparrow', 0.8107771277427673)]"
      ]
     },
     "execution_count": 111,
     "metadata": {},
     "output_type": "execute_result"
    }
   ],
   "source": [
    "wv_from_text.most_similar(positive=['missile'])"
   ]
  },
  {
   "cell_type": "code",
   "execution_count": 112,
   "metadata": {},
   "outputs": [
    {
     "data": {
      "text/plain": [
       "[('corps', 0.820118248462677),\n",
       " ('forces', 0.8026898503303528),\n",
       " ('troops', 0.7948513627052307),\n",
       " ('armies', 0.7779507637023926),\n",
       " ('expeditionary', 0.7663358449935913),\n",
       " ('brigade', 0.7611337304115295),\n",
       " ('cavalry', 0.7610782384872437),\n",
       " ('soldiers', 0.7584280967712402),\n",
       " ('military', 0.7572802901268005),\n",
       " ('hullyeondae', 0.7566160559654236)]"
      ]
     },
     "execution_count": 112,
     "metadata": {},
     "output_type": "execute_result"
    }
   ],
   "source": [
    "wv_from_text.most_similar(positive=['army'])"
   ]
  },
  {
   "cell_type": "code",
   "execution_count": 113,
   "metadata": {},
   "outputs": [
    {
     "data": {
      "text/plain": [
       "[('targets', 0.8499306440353394),\n",
       " ('targeting', 0.8013738393783569),\n",
       " ('targeted', 0.7695007920265198),\n",
       " ('druggable', 0.7485793828964233),\n",
       " ('ratscat', 0.7394058704376221),\n",
       " ('targeter', 0.7353816628456116),\n",
       " ('darkhotel', 0.7282263040542603),\n",
       " ('glsdb', 0.7280399203300476),\n",
       " ('96l6e', 0.7258893847465515),\n",
       " ('siaswfcs', 0.7199010848999023)]"
      ]
     },
     "execution_count": 113,
     "metadata": {},
     "output_type": "execute_result"
    }
   ],
   "source": [
    "wv_from_text.most_similar(positive=['target'])"
   ]
  },
  {
   "cell_type": "markdown",
   "metadata": {},
   "source": [
    "# Training existing model"
   ]
  },
  {
   "cell_type": "markdown",
   "metadata": {},
   "source": [
    "Training Sources:\n",
    "- https://qz.com/2142992/transcript-of-volodymyr-zelenskyys-speech-to-the-us-congress/\n",
    "- https://kyivindependent.com/national/zelenskys-full-speech-at-munich-security-conference/\n",
    "- https://www.timesofisrael.com/full-text-ukraine-president-zelenskys-speech-to-israeli-lawmakers/\n",
    "- https://www.theguardian.com/world/2022/mar/08/thirteen-days-of-struggle-volodymyr-zelenskiys-speech-to-uk-parliament-transcript\n",
    "- https://edition.cnn.com/2022/03/24/politics/zelensky-speech-nato-transcript/index.html"
   ]
  },
  {
   "cell_type": "code",
   "execution_count": 114,
   "metadata": {},
   "outputs": [
    {
     "data": {
      "text/plain": [
       "4530030"
      ]
     },
     "execution_count": 114,
     "metadata": {},
     "output_type": "execute_result"
    }
   ],
   "source": [
    "from gensim.models import Word2Vec\n",
    "old_model = wv_from_text\n",
    "len(old_model)"
   ]
  },
  {
   "cell_type": "markdown",
   "metadata": {},
   "source": [
    "Alternativ:\n",
    "\n",
    "https://radimrehurek.com/gensim/models/word2vec.html#gensim.models.word2vec.LineSentence"
   ]
  },
  {
   "cell_type": "markdown",
   "metadata": {},
   "source": [
    "https://datascience.stackexchange.com/questions/49431/how-to-train-an-existing-word2vec-gensim-model-on-new-words\n",
    "\n",
    "Collect first data from:\n",
    "https://qz.com/2142992/transcript-of-volodymyr-zelenskyys-speech-to-the-us-congress/"
   ]
  },
  {
   "cell_type": "code",
   "execution_count": 115,
   "metadata": {},
   "outputs": [],
   "source": [
    "import requests\n",
    "import html2text\n",
    "import html\n",
    "import re\n",
    "\n",
    "sentences_source_one = []\n",
    "\n",
    "url = 'https://qz.com/2142992/transcript-of-volodymyr-zelenskyys-speech-to-the-us-congress/'\n",
    "r = requests.get(url)\n",
    "content = r.text.split('<div id=\"article-content\"><div>')\n",
    "h = html2text.HTML2Text()\n",
    "h.ignore_links = True\n",
    "new_content = h.handle(content[1])\n",
    "\n",
    "new_content = str(new_content).replace(\"\\n\", \" \")\n",
    "new_content = str(new_content).replace(\"_\", \" \")\n",
    "new_content = str(new_content).replace(\"#\", \" \")\n",
    "new_content = str(new_content).split(\"Thank you. Glory to Ukraine.\")[0]\n",
    "new_content = str(new_content).split(\".\")\n",
    "\n",
    "for content in new_content:\n",
    "    if content != \" \":\n",
    "        if \"”\" in content:\n",
    "            sentences_source_one.append(content.split(\"”\")[1].strip().split(\" \"))\n",
    "        else:\n",
    "            sentences_source_one.append(content.strip().split(\" \"))\n",
    "\n",
    "for sentence in sentences_source_one:\n",
    "    if len(sentence) < 2:\n",
    "        sentences_source_one.remove(sentence)\n",
    "\n",
    "with open(\"source_file_one.txt\", \"w\") as resultFile:\n",
    "    for i in range(0,200):\n",
    "        for sentence in sentences_source_one:\n",
    "            for word in sentence:\n",
    "                if word != \"\":\n",
    "                    resultFile.write((''.join(e for e in word if e.isalnum())).lower())\n",
    "                    resultFile.write(\" \")\n",
    "            resultFile.write(\"\\n\")\n",
    "resultFile.close()"
   ]
  },
  {
   "cell_type": "code",
   "execution_count": 116,
   "metadata": {},
   "outputs": [],
   "source": [
    "#Exec-Time: 2min \n",
    "import gensim\n",
    "import numpy as np\n",
    "data_source_one = gensim.models.word2vec.LineSentence('source_file_one.txt')\n",
    "\n",
    "new_model = Word2Vec(vector_size=100, min_count=0)\n",
    "new_model.build_vocab(data_source_one)\n",
    "new_model.build_vocab([list(old_model.key_to_index.keys())], update=True)"
   ]
  },
  {
   "cell_type": "code",
   "execution_count": 117,
   "metadata": {},
   "outputs": [],
   "source": [
    "test_model = new_model"
   ]
  },
  {
   "cell_type": "code",
   "execution_count": 118,
   "metadata": {},
   "outputs": [
    {
     "name": "stdout",
     "output_type": "stream",
     "text": [
      "[1.]\n",
      "100\n",
      "4530030\n"
     ]
    }
   ],
   "source": [
    "print(test_model.wv.vectors_lockf)\n",
    "print(old_model.vector_size)\n",
    "print(len(old_model))"
   ]
  },
  {
   "cell_type": "code",
   "execution_count": 119,
   "metadata": {},
   "outputs": [],
   "source": [
    "test_model.wv.vectors_lockf = np.ones(len(old_model)+100, dtype=np.float32)"
   ]
  },
  {
   "cell_type": "markdown",
   "metadata": {},
   "source": [
    "Reset norm vectors: Zwingt das Modell den Vektoren neuzubauen. (Nicht die Gewichte)"
   ]
  },
  {
   "cell_type": "code",
   "execution_count": 120,
   "metadata": {},
   "outputs": [],
   "source": [
    "test_model.wv.vectors_norm = None"
   ]
  },
  {
   "cell_type": "code",
   "execution_count": 121,
   "metadata": {},
   "outputs": [],
   "source": [
    "# 5min\n",
    "test_model.wv.intersect_word2vec_format(MODEL_PATH, lockf=1.0, binary=False)"
   ]
  },
  {
   "cell_type": "code",
   "execution_count": 122,
   "metadata": {},
   "outputs": [
    {
     "data": {
      "text/plain": [
       "(26940000, 26940000)"
      ]
     },
     "execution_count": 122,
     "metadata": {},
     "output_type": "execute_result"
    }
   ],
   "source": [
    "# 1min\n",
    "new_model.train(data_source_one, total_examples=len(sentences_source_one), epochs=100)\n"
   ]
  },
  {
   "cell_type": "markdown",
   "metadata": {},
   "source": [
    "## Validierung des Lernen"
   ]
  },
  {
   "cell_type": "markdown",
   "metadata": {},
   "source": [
    "Testen durch neues Wort: \"Volodymyr\"\n",
    "- Hat das neue Vokabular Gewichte erhalten"
   ]
  },
  {
   "cell_type": "code",
   "execution_count": 125,
   "metadata": {},
   "outputs": [
    {
     "data": {
      "text/plain": [
       "array([ 0.44434252,  0.7131247 , -0.17836851,  0.52364975, -1.6347128 ,\n",
       "       -2.0839815 ,  0.25930706,  0.23519567, -0.24192631, -2.154665  ,\n",
       "        0.32195666,  0.03065369,  0.7129324 , -1.5937446 ,  1.324806  ,\n",
       "       -1.4768718 ,  0.32484177, -1.219215  , -0.4760588 ,  1.0747147 ,\n",
       "       -0.6496581 ,  2.2878878 , -1.2338402 ,  0.02579085, -2.2134795 ,\n",
       "       -0.95943844,  0.35221145, -0.84944636,  2.0531118 ,  2.3759527 ,\n",
       "        0.5760984 , -0.7525982 ,  0.06080194,  2.3510125 ,  0.5015435 ,\n",
       "       -1.8761567 ,  1.386709  , -0.09343706,  2.7618349 , -1.4525677 ,\n",
       "       -0.24010037,  1.2765133 , -1.8052961 ,  0.522242  , -2.169765  ,\n",
       "       -0.6984117 ,  0.12435318,  1.8813324 , -1.1097809 , -0.4021789 ,\n",
       "       -0.12017234,  0.59364164,  0.10271825,  0.7630176 , -0.19448903,\n",
       "        0.27029297,  1.4398181 ,  0.54131174, -1.5665628 , -0.21246345,\n",
       "       -0.05763024,  0.594415  ,  0.09683657,  1.923336  ,  4.755951  ,\n",
       "       -2.3296888 , -1.5048281 , -0.482954  ,  0.12849773, -2.2347796 ,\n",
       "       -0.24718578,  1.1225456 ,  0.12742218,  1.2020218 , -2.3123732 ,\n",
       "        0.804163  , -1.061956  , -0.29899567, -0.50377315, -1.6191688 ,\n",
       "       -0.04493427, -0.821056  ,  0.879279  , -1.3211545 ,  1.4151598 ,\n",
       "        2.8265038 ,  0.5675225 ,  0.25913975,  1.032087  ,  0.35574123,\n",
       "        1.3407058 ,  1.7138387 ,  0.97331035, -1.2600051 ,  1.4234515 ,\n",
       "       -0.65124   ,  0.11284396,  1.8218564 , -1.0241178 ,  1.5848912 ],\n",
       "      dtype=float32)"
      ]
     },
     "execution_count": 125,
     "metadata": {},
     "output_type": "execute_result"
    }
   ],
   "source": [
    "test_model.wv.get_vector(\"volodymyr\")"
   ]
  },
  {
   "cell_type": "code",
   "execution_count": 126,
   "metadata": {},
   "outputs": [
    {
     "data": {
      "text/plain": [
       "4530030"
      ]
     },
     "execution_count": 126,
     "metadata": {},
     "output_type": "execute_result"
    }
   ],
   "source": [
    "test_model.corpus_total_words"
   ]
  },
  {
   "cell_type": "code",
   "execution_count": 127,
   "metadata": {},
   "outputs": [
    {
     "data": {
      "text/plain": [
       "[('all', 0.9312693476676941),\n",
       " ('and', 0.9248794913291931),\n",
       " ('russia', 0.9227811098098755),\n",
       " ('help', 0.9226831197738647),\n",
       " ('the', 0.9205886721611023),\n",
       " ('in', 0.9193929433822632),\n",
       " ('europe', 0.9175609350204468),\n",
       " ('from', 0.9168244004249573),\n",
       " ('to', 0.9161273837089539),\n",
       " ('a', 0.9161081910133362)]"
      ]
     },
     "execution_count": 127,
     "metadata": {},
     "output_type": "execute_result"
    }
   ],
   "source": []
  },
  {
   "cell_type": "markdown",
   "metadata": {},
   "source": [
    "### Vergleich: 'ukraine'"
   ]
  },
  {
   "cell_type": "code",
   "execution_count": 130,
   "metadata": {},
   "outputs": [
    {
     "data": {
      "text/plain": [
       "[('all', 0.9312693476676941),\n",
       " ('and', 0.9248794913291931),\n",
       " ('russia', 0.9227811098098755),\n",
       " ('help', 0.9226831197738647),\n",
       " ('the', 0.9205886721611023),\n",
       " ('in', 0.9193929433822632),\n",
       " ('europe', 0.9175609350204468),\n",
       " ('from', 0.9168244004249573),\n",
       " ('to', 0.9161273837089539),\n",
       " ('a', 0.9161081910133362)]"
      ]
     },
     "execution_count": 130,
     "metadata": {},
     "output_type": "execute_result"
    }
   ],
   "source": [
    "test_model.wv.most_similar('ukraine', topn=10)"
   ]
  },
  {
   "cell_type": "code",
   "execution_count": 131,
   "metadata": {},
   "outputs": [
    {
     "data": {
      "text/plain": [
       "[('ENTITY/Ukraine', 0.8916355967521667),\n",
       " ('belarus', 0.888225257396698),\n",
       " ('rivne', 0.8229362964630127),\n",
       " ('ternopil', 0.8213138580322266),\n",
       " ('vinnytsia', 0.8198360800743103),\n",
       " ('kharkiv', 0.8192664980888367),\n",
       " ('lviv', 0.8175711035728455),\n",
       " ('russia', 0.8113815188407898),\n",
       " ('frankivsk', 0.8110743761062622),\n",
       " ('ukrainian', 0.8106153607368469)]"
      ]
     },
     "execution_count": 131,
     "metadata": {},
     "output_type": "execute_result"
    }
   ],
   "source": [
    "old_model.most_similar('ukraine', topn=10)"
   ]
  },
  {
   "cell_type": "markdown",
   "metadata": {},
   "source": [
    "### Vergleich: 'capital'"
   ]
  },
  {
   "cell_type": "code",
   "execution_count": 128,
   "metadata": {},
   "outputs": [
    {
     "data": {
      "text/plain": [
       "[('interventure', 0.718424379825592),\n",
       " ('izurium', 0.7171353101730347),\n",
       " ('exhilway', 0.7164986729621887),\n",
       " ('grovepoint', 0.7136563062667847),\n",
       " ('towerbrook', 0.7107530236244202),\n",
       " ('rockfire', 0.7072932720184326),\n",
       " ('steadview', 0.7071779370307922),\n",
       " ('rexiter', 0.7069593667984009),\n",
       " ('kingsett', 0.7062273621559143),\n",
       " ('westsummit', 0.7044868469238281),\n",
       " ('growthgate', 0.7037697434425354),\n",
       " ('sinolatin', 0.702286958694458),\n",
       " ('bowmark', 0.7018295526504517),\n",
       " ('kalaari', 0.6984803080558777),\n",
       " ('trilantic', 0.6963850855827332),\n",
       " ('chrysalix', 0.6936382055282593),\n",
       " ('silverfleet', 0.693339467048645),\n",
       " ('telconet', 0.6929739713668823),\n",
       " ('capitial', 0.6923331022262573),\n",
       " ('tresalia', 0.6898317337036133)]"
      ]
     },
     "execution_count": 128,
     "metadata": {},
     "output_type": "execute_result"
    }
   ],
   "source": [
    "old_model.most_similar('capital', topn=20)"
   ]
  },
  {
   "cell_type": "code",
   "execution_count": 129,
   "metadata": {},
   "outputs": [
    {
     "data": {
      "text/plain": [
       "[('city', 0.8649642467498779),\n",
       " ('kyiv', 0.7830309271812439),\n",
       " ('country', 0.7780447006225586),\n",
       " ('destruction', 0.7632777094841003),\n",
       " ('lives', 0.7545908093452454),\n",
       " ('from', 0.7527872323989868),\n",
       " ('cities', 0.7486905455589294),\n",
       " ('ENTITY/_Los_Ríos_Province', 0.7254710793495178),\n",
       " ('our', 0.7247995138168335),\n",
       " ('land', 0.7224648594856262),\n",
       " ('737km', 0.720375120639801),\n",
       " ('invade', 0.7172403931617737),\n",
       " ('chechyna', 0.7134188413619995),\n",
       " ('protect', 0.7093082070350647),\n",
       " ('against', 0.7070604562759399),\n",
       " ('destiny', 0.7062267065048218),\n",
       " ('invasion', 0.7046675086021423),\n",
       " ('lukove', 0.703818678855896),\n",
       " ('energylandia', 0.7036790251731873),\n",
       " ('of', 0.7029323577880859)]"
      ]
     },
     "execution_count": 129,
     "metadata": {},
     "output_type": "execute_result"
    }
   ],
   "source": [
    "test_model.wv.most_similar('capital', topn=20)"
   ]
  },
  {
   "cell_type": "markdown",
   "metadata": {},
   "source": [
    "## Anmerkungen\n",
    "- Das Problem für das Training war, dass Ukraine und ukraine einen Unterschied in der Schreibweise darstellt!\n",
    "- Das Modell mit 1000x Fachung des Input hat das Problem gelöst\n",
    "- Das Modell kann lernen\n",
    "- Die Qualität passt sich der Vorverarbeitung an"
   ]
  }
 ],
 "metadata": {
  "interpreter": {
   "hash": "45037c9fa964e33746a67959e611b1255904e81b18931a74a47f598c93f55abd"
  },
  "kernelspec": {
   "display_name": "Python 3.7.9 64-bit",
   "language": "python",
   "name": "python3"
  },
  "language_info": {
   "codemirror_mode": {
    "name": "ipython",
    "version": 3
   },
   "file_extension": ".py",
   "mimetype": "text/x-python",
   "name": "python",
   "nbconvert_exporter": "python",
   "pygments_lexer": "ipython3",
   "version": "3.7.9"
  },
  "orig_nbformat": 4
 },
 "nbformat": 4,
 "nbformat_minor": 2
}
